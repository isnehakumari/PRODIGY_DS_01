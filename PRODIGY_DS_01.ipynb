{
 "cells": [
  {
   "cell_type": "code",
   "execution_count": 121,
   "id": "2b32c1f1-f77d-4bd8-86f5-f0a46e9a168b",
   "metadata": {},
   "outputs": [],
   "source": [
    "import pandas as pd\n",
    "import numpy as np\n",
    "import matplotlib.pyplot as plt"
   ]
  },
  {
   "cell_type": "code",
   "execution_count": 122,
   "id": "2368d781-0405-4db0-b122-b7d97807b648",
   "metadata": {},
   "outputs": [],
   "source": [
    "df = pd.read_csv(\"population_by_age_group.csv\")"
   ]
  },
  {
   "cell_type": "code",
   "execution_count": 123,
   "id": "229add4f-2d24-4f2f-8f15-9d6e093dd0e7",
   "metadata": {},
   "outputs": [
    {
     "data": {
      "text/html": [
       "<div>\n",
       "<style scoped>\n",
       "    .dataframe tbody tr th:only-of-type {\n",
       "        vertical-align: middle;\n",
       "    }\n",
       "\n",
       "    .dataframe tbody tr th {\n",
       "        vertical-align: top;\n",
       "    }\n",
       "\n",
       "    .dataframe thead th {\n",
       "        text-align: right;\n",
       "    }\n",
       "</style>\n",
       "<table border=\"1\" class=\"dataframe\">\n",
       "  <thead>\n",
       "    <tr style=\"text-align: right;\">\n",
       "      <th></th>\n",
       "      <th>Country</th>\n",
       "      <th>Total</th>\n",
       "      <th>65+</th>\n",
       "      <th>25-64 years</th>\n",
       "      <th>15-24 years</th>\n",
       "      <th>5-14 years</th>\n",
       "      <th>0-4 years</th>\n",
       "    </tr>\n",
       "  </thead>\n",
       "  <tbody>\n",
       "    <tr>\n",
       "      <th>0</th>\n",
       "      <td>Afghanistan</td>\n",
       "      <td>40099460</td>\n",
       "      <td>964016</td>\n",
       "      <td>12995277</td>\n",
       "      <td>8727160</td>\n",
       "      <td>10922454</td>\n",
       "      <td>6490554</td>\n",
       "    </tr>\n",
       "    <tr>\n",
       "      <th>1</th>\n",
       "      <td>Albania</td>\n",
       "      <td>2854710</td>\n",
       "      <td>463442</td>\n",
       "      <td>1527360</td>\n",
       "      <td>399113</td>\n",
       "      <td>323402</td>\n",
       "      <td>141393</td>\n",
       "    </tr>\n",
       "    <tr>\n",
       "      <th>2</th>\n",
       "      <td>Algeria</td>\n",
       "      <td>44177964</td>\n",
       "      <td>2731079</td>\n",
       "      <td>21871300</td>\n",
       "      <td>6007614</td>\n",
       "      <td>8697129</td>\n",
       "      <td>4870841</td>\n",
       "    </tr>\n",
       "    <tr>\n",
       "      <th>3</th>\n",
       "      <td>American Samoa</td>\n",
       "      <td>45056</td>\n",
       "      <td>3088</td>\n",
       "      <td>22433</td>\n",
       "      <td>7141</td>\n",
       "      <td>8365</td>\n",
       "      <td>4029</td>\n",
       "    </tr>\n",
       "    <tr>\n",
       "      <th>4</th>\n",
       "      <td>Andorra</td>\n",
       "      <td>79057</td>\n",
       "      <td>11499</td>\n",
       "      <td>48651</td>\n",
       "      <td>8570</td>\n",
       "      <td>7797</td>\n",
       "      <td>2540</td>\n",
       "    </tr>\n",
       "    <tr>\n",
       "      <th>...</th>\n",
       "      <td>...</td>\n",
       "      <td>...</td>\n",
       "      <td>...</td>\n",
       "      <td>...</td>\n",
       "      <td>...</td>\n",
       "      <td>...</td>\n",
       "      <td>...</td>\n",
       "    </tr>\n",
       "    <tr>\n",
       "      <th>230</th>\n",
       "      <td>Wallis and Futuna</td>\n",
       "      <td>11654</td>\n",
       "      <td>1521</td>\n",
       "      <td>5767</td>\n",
       "      <td>1652</td>\n",
       "      <td>1961</td>\n",
       "      <td>753</td>\n",
       "    </tr>\n",
       "    <tr>\n",
       "      <th>231</th>\n",
       "      <td>Western Sahara</td>\n",
       "      <td>565590</td>\n",
       "      <td>31718</td>\n",
       "      <td>314200</td>\n",
       "      <td>80572</td>\n",
       "      <td>92147</td>\n",
       "      <td>46953</td>\n",
       "    </tr>\n",
       "    <tr>\n",
       "      <th>232</th>\n",
       "      <td>Yemen</td>\n",
       "      <td>32981644</td>\n",
       "      <td>886890</td>\n",
       "      <td>12210659</td>\n",
       "      <td>6733620</td>\n",
       "      <td>8436417</td>\n",
       "      <td>4714059</td>\n",
       "    </tr>\n",
       "    <tr>\n",
       "      <th>233</th>\n",
       "      <td>Zambia</td>\n",
       "      <td>19473132</td>\n",
       "      <td>338628</td>\n",
       "      <td>6734346</td>\n",
       "      <td>3975624</td>\n",
       "      <td>5351636</td>\n",
       "      <td>3072899</td>\n",
       "    </tr>\n",
       "    <tr>\n",
       "      <th>234</th>\n",
       "      <td>Zimbabwe</td>\n",
       "      <td>15993525</td>\n",
       "      <td>537915</td>\n",
       "      <td>5572892</td>\n",
       "      <td>3342436</td>\n",
       "      <td>4240570</td>\n",
       "      <td>2299712</td>\n",
       "    </tr>\n",
       "  </tbody>\n",
       "</table>\n",
       "<p>235 rows × 7 columns</p>\n",
       "</div>"
      ],
      "text/plain": [
       "               Country     Total      65+  25-64 years  15-24 years  \\\n",
       "0          Afghanistan  40099460   964016     12995277      8727160   \n",
       "1              Albania   2854710   463442      1527360       399113   \n",
       "2              Algeria  44177964  2731079     21871300      6007614   \n",
       "3       American Samoa     45056     3088        22433         7141   \n",
       "4              Andorra     79057    11499        48651         8570   \n",
       "..                 ...       ...      ...          ...          ...   \n",
       "230  Wallis and Futuna     11654     1521         5767         1652   \n",
       "231     Western Sahara    565590    31718       314200        80572   \n",
       "232              Yemen  32981644   886890     12210659      6733620   \n",
       "233             Zambia  19473132   338628      6734346      3975624   \n",
       "234           Zimbabwe  15993525   537915      5572892      3342436   \n",
       "\n",
       "     5-14 years  0-4 years  \n",
       "0      10922454    6490554  \n",
       "1        323402     141393  \n",
       "2       8697129    4870841  \n",
       "3          8365       4029  \n",
       "4          7797       2540  \n",
       "..          ...        ...  \n",
       "230        1961        753  \n",
       "231       92147      46953  \n",
       "232     8436417    4714059  \n",
       "233     5351636    3072899  \n",
       "234     4240570    2299712  \n",
       "\n",
       "[235 rows x 7 columns]"
      ]
     },
     "execution_count": 123,
     "metadata": {},
     "output_type": "execute_result"
    }
   ],
   "source": [
    "df"
   ]
  },
  {
   "cell_type": "code",
   "execution_count": 124,
   "id": "9f1680a6-77e4-4bc0-b333-47a62be77d54",
   "metadata": {},
   "outputs": [
    {
     "data": {
      "text/html": [
       "<div>\n",
       "<style scoped>\n",
       "    .dataframe tbody tr th:only-of-type {\n",
       "        vertical-align: middle;\n",
       "    }\n",
       "\n",
       "    .dataframe tbody tr th {\n",
       "        vertical-align: top;\n",
       "    }\n",
       "\n",
       "    .dataframe thead th {\n",
       "        text-align: right;\n",
       "    }\n",
       "</style>\n",
       "<table border=\"1\" class=\"dataframe\">\n",
       "  <thead>\n",
       "    <tr style=\"text-align: right;\">\n",
       "      <th></th>\n",
       "      <th>Country</th>\n",
       "      <th>Total</th>\n",
       "      <th>65+</th>\n",
       "      <th>25-64 years</th>\n",
       "      <th>15-24 years</th>\n",
       "      <th>5-14 years</th>\n",
       "      <th>0-4 years</th>\n",
       "    </tr>\n",
       "  </thead>\n",
       "  <tbody>\n",
       "    <tr>\n",
       "      <th>0</th>\n",
       "      <td>Afghanistan</td>\n",
       "      <td>40099460</td>\n",
       "      <td>964016</td>\n",
       "      <td>12995277</td>\n",
       "      <td>8727160</td>\n",
       "      <td>10922454</td>\n",
       "      <td>6490554</td>\n",
       "    </tr>\n",
       "    <tr>\n",
       "      <th>1</th>\n",
       "      <td>Albania</td>\n",
       "      <td>2854710</td>\n",
       "      <td>463442</td>\n",
       "      <td>1527360</td>\n",
       "      <td>399113</td>\n",
       "      <td>323402</td>\n",
       "      <td>141393</td>\n",
       "    </tr>\n",
       "    <tr>\n",
       "      <th>2</th>\n",
       "      <td>Algeria</td>\n",
       "      <td>44177964</td>\n",
       "      <td>2731079</td>\n",
       "      <td>21871300</td>\n",
       "      <td>6007614</td>\n",
       "      <td>8697129</td>\n",
       "      <td>4870841</td>\n",
       "    </tr>\n",
       "    <tr>\n",
       "      <th>3</th>\n",
       "      <td>American Samoa</td>\n",
       "      <td>45056</td>\n",
       "      <td>3088</td>\n",
       "      <td>22433</td>\n",
       "      <td>7141</td>\n",
       "      <td>8365</td>\n",
       "      <td>4029</td>\n",
       "    </tr>\n",
       "    <tr>\n",
       "      <th>4</th>\n",
       "      <td>Andorra</td>\n",
       "      <td>79057</td>\n",
       "      <td>11499</td>\n",
       "      <td>48651</td>\n",
       "      <td>8570</td>\n",
       "      <td>7797</td>\n",
       "      <td>2540</td>\n",
       "    </tr>\n",
       "  </tbody>\n",
       "</table>\n",
       "</div>"
      ],
      "text/plain": [
       "          Country     Total      65+  25-64 years  15-24 years  5-14 years  \\\n",
       "0     Afghanistan  40099460   964016     12995277      8727160    10922454   \n",
       "1         Albania   2854710   463442      1527360       399113      323402   \n",
       "2         Algeria  44177964  2731079     21871300      6007614     8697129   \n",
       "3  American Samoa     45056     3088        22433         7141        8365   \n",
       "4         Andorra     79057    11499        48651         8570        7797   \n",
       "\n",
       "   0-4 years  \n",
       "0    6490554  \n",
       "1     141393  \n",
       "2    4870841  \n",
       "3       4029  \n",
       "4       2540  "
      ]
     },
     "execution_count": 124,
     "metadata": {},
     "output_type": "execute_result"
    }
   ],
   "source": [
    "df.head()"
   ]
  },
  {
   "cell_type": "code",
   "execution_count": 125,
   "id": "c25486de-dfbc-4b16-89bc-15c6f0295dd3",
   "metadata": {},
   "outputs": [
    {
     "data": {
      "text/html": [
       "<div>\n",
       "<style scoped>\n",
       "    .dataframe tbody tr th:only-of-type {\n",
       "        vertical-align: middle;\n",
       "    }\n",
       "\n",
       "    .dataframe tbody tr th {\n",
       "        vertical-align: top;\n",
       "    }\n",
       "\n",
       "    .dataframe thead th {\n",
       "        text-align: right;\n",
       "    }\n",
       "</style>\n",
       "<table border=\"1\" class=\"dataframe\">\n",
       "  <thead>\n",
       "    <tr style=\"text-align: right;\">\n",
       "      <th></th>\n",
       "      <th>Country</th>\n",
       "      <th>Total</th>\n",
       "      <th>65+</th>\n",
       "      <th>25-64 years</th>\n",
       "      <th>15-24 years</th>\n",
       "      <th>5-14 years</th>\n",
       "      <th>0-4 years</th>\n",
       "    </tr>\n",
       "  </thead>\n",
       "  <tbody>\n",
       "    <tr>\n",
       "      <th>230</th>\n",
       "      <td>Wallis and Futuna</td>\n",
       "      <td>11654</td>\n",
       "      <td>1521</td>\n",
       "      <td>5767</td>\n",
       "      <td>1652</td>\n",
       "      <td>1961</td>\n",
       "      <td>753</td>\n",
       "    </tr>\n",
       "    <tr>\n",
       "      <th>231</th>\n",
       "      <td>Western Sahara</td>\n",
       "      <td>565590</td>\n",
       "      <td>31718</td>\n",
       "      <td>314200</td>\n",
       "      <td>80572</td>\n",
       "      <td>92147</td>\n",
       "      <td>46953</td>\n",
       "    </tr>\n",
       "    <tr>\n",
       "      <th>232</th>\n",
       "      <td>Yemen</td>\n",
       "      <td>32981644</td>\n",
       "      <td>886890</td>\n",
       "      <td>12210659</td>\n",
       "      <td>6733620</td>\n",
       "      <td>8436417</td>\n",
       "      <td>4714059</td>\n",
       "    </tr>\n",
       "    <tr>\n",
       "      <th>233</th>\n",
       "      <td>Zambia</td>\n",
       "      <td>19473132</td>\n",
       "      <td>338628</td>\n",
       "      <td>6734346</td>\n",
       "      <td>3975624</td>\n",
       "      <td>5351636</td>\n",
       "      <td>3072899</td>\n",
       "    </tr>\n",
       "    <tr>\n",
       "      <th>234</th>\n",
       "      <td>Zimbabwe</td>\n",
       "      <td>15993525</td>\n",
       "      <td>537915</td>\n",
       "      <td>5572892</td>\n",
       "      <td>3342436</td>\n",
       "      <td>4240570</td>\n",
       "      <td>2299712</td>\n",
       "    </tr>\n",
       "  </tbody>\n",
       "</table>\n",
       "</div>"
      ],
      "text/plain": [
       "               Country     Total     65+  25-64 years  15-24 years  \\\n",
       "230  Wallis and Futuna     11654    1521         5767         1652   \n",
       "231     Western Sahara    565590   31718       314200        80572   \n",
       "232              Yemen  32981644  886890     12210659      6733620   \n",
       "233             Zambia  19473132  338628      6734346      3975624   \n",
       "234           Zimbabwe  15993525  537915      5572892      3342436   \n",
       "\n",
       "     5-14 years  0-4 years  \n",
       "230        1961        753  \n",
       "231       92147      46953  \n",
       "232     8436417    4714059  \n",
       "233     5351636    3072899  \n",
       "234     4240570    2299712  "
      ]
     },
     "execution_count": 125,
     "metadata": {},
     "output_type": "execute_result"
    }
   ],
   "source": [
    "df.tail()"
   ]
  },
  {
   "cell_type": "code",
   "execution_count": 126,
   "id": "9f833d4f-18fc-4fba-81fd-8750bee26988",
   "metadata": {},
   "outputs": [
    {
     "name": "stdout",
     "output_type": "stream",
     "text": [
      "<class 'pandas.core.frame.DataFrame'>\n",
      "RangeIndex: 235 entries, 0 to 234\n",
      "Data columns (total 7 columns):\n",
      " #   Column       Non-Null Count  Dtype \n",
      "---  ------       --------------  ----- \n",
      " 0   Country      235 non-null    object\n",
      " 1   Total        235 non-null    int64 \n",
      " 2   65+          235 non-null    int64 \n",
      " 3   25-64 years  235 non-null    int64 \n",
      " 4   15-24 years  235 non-null    int64 \n",
      " 5   5-14 years   235 non-null    int64 \n",
      " 6   0-4 years    235 non-null    int64 \n",
      "dtypes: int64(6), object(1)\n",
      "memory usage: 13.0+ KB\n"
     ]
    }
   ],
   "source": [
    "df.info()"
   ]
  },
  {
   "cell_type": "code",
   "execution_count": 127,
   "id": "8b2e9556-cf35-49e7-9a37-3ef1466cc5aa",
   "metadata": {},
   "outputs": [
    {
     "data": {
      "text/html": [
       "<div>\n",
       "<style scoped>\n",
       "    .dataframe tbody tr th:only-of-type {\n",
       "        vertical-align: middle;\n",
       "    }\n",
       "\n",
       "    .dataframe tbody tr th {\n",
       "        vertical-align: top;\n",
       "    }\n",
       "\n",
       "    .dataframe thead th {\n",
       "        text-align: right;\n",
       "    }\n",
       "</style>\n",
       "<table border=\"1\" class=\"dataframe\">\n",
       "  <thead>\n",
       "    <tr style=\"text-align: right;\">\n",
       "      <th></th>\n",
       "      <th>Total</th>\n",
       "      <th>65+</th>\n",
       "      <th>25-64 years</th>\n",
       "      <th>15-24 years</th>\n",
       "      <th>5-14 years</th>\n",
       "      <th>0-4 years</th>\n",
       "    </tr>\n",
       "  </thead>\n",
       "  <tbody>\n",
       "    <tr>\n",
       "      <th>count</th>\n",
       "      <td>2.350000e+02</td>\n",
       "      <td>2.350000e+02</td>\n",
       "      <td>2.350000e+02</td>\n",
       "      <td>2.350000e+02</td>\n",
       "      <td>2.350000e+02</td>\n",
       "      <td>2.350000e+02</td>\n",
       "    </tr>\n",
       "    <tr>\n",
       "      <th>mean</th>\n",
       "      <td>3.365653e+07</td>\n",
       "      <td>3.239456e+06</td>\n",
       "      <td>1.663291e+07</td>\n",
       "      <td>5.209602e+06</td>\n",
       "      <td>5.717213e+06</td>\n",
       "      <td>2.857348e+06</td>\n",
       "    </tr>\n",
       "    <tr>\n",
       "      <th>std</th>\n",
       "      <td>1.359563e+08</td>\n",
       "      <td>1.459906e+07</td>\n",
       "      <td>7.266853e+07</td>\n",
       "      <td>2.062212e+07</td>\n",
       "      <td>2.107024e+07</td>\n",
       "      <td>9.809743e+06</td>\n",
       "    </tr>\n",
       "    <tr>\n",
       "      <th>min</th>\n",
       "      <td>1.869000e+03</td>\n",
       "      <td>1.590000e+02</td>\n",
       "      <td>8.520000e+02</td>\n",
       "      <td>2.060000e+02</td>\n",
       "      <td>3.690000e+02</td>\n",
       "      <td>1.450000e+02</td>\n",
       "    </tr>\n",
       "    <tr>\n",
       "      <th>25%</th>\n",
       "      <td>4.266510e+05</td>\n",
       "      <td>3.347550e+04</td>\n",
       "      <td>2.388210e+05</td>\n",
       "      <td>6.762500e+04</td>\n",
       "      <td>6.795800e+04</td>\n",
       "      <td>3.648400e+04</td>\n",
       "    </tr>\n",
       "    <tr>\n",
       "      <th>50%</th>\n",
       "      <td>5.457165e+06</td>\n",
       "      <td>3.727000e+05</td>\n",
       "      <td>2.784971e+06</td>\n",
       "      <td>7.462240e+05</td>\n",
       "      <td>7.642670e+05</td>\n",
       "      <td>4.123510e+05</td>\n",
       "    </tr>\n",
       "    <tr>\n",
       "      <th>75%</th>\n",
       "      <td>2.183921e+07</td>\n",
       "      <td>1.534978e+06</td>\n",
       "      <td>9.579148e+06</td>\n",
       "      <td>3.715164e+06</td>\n",
       "      <td>4.494770e+06</td>\n",
       "      <td>2.075203e+06</td>\n",
       "    </tr>\n",
       "    <tr>\n",
       "      <th>max</th>\n",
       "      <td>1.425894e+09</td>\n",
       "      <td>1.875015e+08</td>\n",
       "      <td>8.257142e+08</td>\n",
       "      <td>2.545856e+08</td>\n",
       "      <td>2.462618e+08</td>\n",
       "      <td>1.153074e+08</td>\n",
       "    </tr>\n",
       "  </tbody>\n",
       "</table>\n",
       "</div>"
      ],
      "text/plain": [
       "              Total           65+   25-64 years   15-24 years    5-14 years  \\\n",
       "count  2.350000e+02  2.350000e+02  2.350000e+02  2.350000e+02  2.350000e+02   \n",
       "mean   3.365653e+07  3.239456e+06  1.663291e+07  5.209602e+06  5.717213e+06   \n",
       "std    1.359563e+08  1.459906e+07  7.266853e+07  2.062212e+07  2.107024e+07   \n",
       "min    1.869000e+03  1.590000e+02  8.520000e+02  2.060000e+02  3.690000e+02   \n",
       "25%    4.266510e+05  3.347550e+04  2.388210e+05  6.762500e+04  6.795800e+04   \n",
       "50%    5.457165e+06  3.727000e+05  2.784971e+06  7.462240e+05  7.642670e+05   \n",
       "75%    2.183921e+07  1.534978e+06  9.579148e+06  3.715164e+06  4.494770e+06   \n",
       "max    1.425894e+09  1.875015e+08  8.257142e+08  2.545856e+08  2.462618e+08   \n",
       "\n",
       "          0-4 years  \n",
       "count  2.350000e+02  \n",
       "mean   2.857348e+06  \n",
       "std    9.809743e+06  \n",
       "min    1.450000e+02  \n",
       "25%    3.648400e+04  \n",
       "50%    4.123510e+05  \n",
       "75%    2.075203e+06  \n",
       "max    1.153074e+08  "
      ]
     },
     "execution_count": 127,
     "metadata": {},
     "output_type": "execute_result"
    }
   ],
   "source": [
    "df.describe()"
   ]
  },
  {
   "cell_type": "code",
   "execution_count": 128,
   "id": "5431e9c0-89ae-49fc-84b1-e422e9413519",
   "metadata": {},
   "outputs": [
    {
     "data": {
      "text/plain": [
       "(235, 7)"
      ]
     },
     "execution_count": 128,
     "metadata": {},
     "output_type": "execute_result"
    }
   ],
   "source": [
    "df.shape"
   ]
  },
  {
   "cell_type": "code",
   "execution_count": 129,
   "id": "d94625c4-a63d-4313-9e33-4b7e7eef2f73",
   "metadata": {},
   "outputs": [
    {
     "data": {
      "text/plain": [
       "Index(['Country', 'Total', '65+', '25-64 years', '15-24 years', '5-14 years',\n",
       "       '0-4 years'],\n",
       "      dtype='object')"
      ]
     },
     "execution_count": 129,
     "metadata": {},
     "output_type": "execute_result"
    }
   ],
   "source": [
    "df.columns"
   ]
  },
  {
   "cell_type": "code",
   "execution_count": 130,
   "id": "aa02dcb8-763d-4874-af5a-4db74c911702",
   "metadata": {},
   "outputs": [
    {
     "data": {
      "text/plain": [
       "0"
      ]
     },
     "execution_count": 130,
     "metadata": {},
     "output_type": "execute_result"
    }
   ],
   "source": [
    "df.duplicated().sum()"
   ]
  },
  {
   "cell_type": "code",
   "execution_count": 131,
   "id": "35effae6-7a68-41e7-b710-21db6441e90f",
   "metadata": {},
   "outputs": [
    {
     "name": "stderr",
     "output_type": "stream",
     "text": [
      "C:\\Users\\princ_vn\\AppData\\Local\\Temp\\ipykernel_23052\\1118874222.py:1: FutureWarning: DataFrame.fillna with 'method' is deprecated and will raise in a future version. Use obj.ffill() or obj.bfill() instead.\n",
      "  data = df.fillna(method = \"bfill\")\n"
     ]
    }
   ],
   "source": [
    "data = df.fillna(method = \"bfill\")"
   ]
  },
  {
   "cell_type": "code",
   "execution_count": 132,
   "id": "38a80f12-d578-4982-8e58-c9c0a8522b16",
   "metadata": {},
   "outputs": [
    {
     "data": {
      "text/plain": [
       "False"
      ]
     },
     "execution_count": 132,
     "metadata": {},
     "output_type": "execute_result"
    }
   ],
   "source": [
    "df.isna().sum().any()"
   ]
  },
  {
   "cell_type": "code",
   "execution_count": 133,
   "id": "f278e740-156e-444f-81b6-c47004d3b809",
   "metadata": {},
   "outputs": [
    {
     "data": {
      "text/plain": [
       "array(['Afghanistan', 'Albania', 'Algeria', 'American Samoa', 'Andorra',\n",
       "       'Angola', 'Anguilla', 'Antigua and Barbuda', 'Argentina',\n",
       "       'Armenia', 'Aruba', 'Australia', 'Austria', 'Azerbaijan',\n",
       "       'Bahamas', 'Bahrain', 'Bangladesh', 'Barbados', 'Belarus',\n",
       "       'Belgium', 'Belize', 'Benin', 'Bermuda', 'Bhutan', 'Bolivia',\n",
       "       'Bonaire Sint Eustatius and Saba', 'Bosnia and Herzegovina',\n",
       "       'Botswana', 'Brazil', 'British Virgin Islands', 'Brunei',\n",
       "       'Bulgaria', 'Burkina Faso', 'Burundi', 'Cambodia', 'Cameroon',\n",
       "       'Canada', 'Cape Verde', 'Cayman Islands',\n",
       "       'Central African Republic', 'Chad', 'Chile', 'China', 'Colombia',\n",
       "       'Comoros', 'Congo', 'Cook Islands', 'Costa Rica', \"Cote d'Ivoire\",\n",
       "       'Croatia', 'Cuba', 'Curacao', 'Cyprus', 'Czechia',\n",
       "       'Democratic Republic of Congo', 'Denmark', 'Djibouti', 'Dominica',\n",
       "       'Dominican Republic', 'Ecuador', 'Egypt', 'El Salvador',\n",
       "       'Equatorial Guinea', 'Eritrea', 'Estonia', 'Eswatini', 'Ethiopia',\n",
       "       'Faeroe Islands', 'Falkland Islands', 'Fiji', 'Finland', 'France',\n",
       "       'French Guiana', 'French Polynesia', 'Gabon', 'Gambia', 'Georgia',\n",
       "       'Germany', 'Ghana', 'Gibraltar', 'Greece', 'Greenland', 'Grenada',\n",
       "       'Guadeloupe', 'Guam', 'Guatemala', 'Guernsey', 'Guinea',\n",
       "       'Guinea-Bissau', 'Guyana', 'Haiti', 'Honduras', 'Hong Kong',\n",
       "       'Hungary', 'Iceland', 'India', 'Indonesia', 'Iran', 'Iraq',\n",
       "       'Ireland', 'Isle of Man', 'Israel', 'Italy', 'Jamaica', 'Japan',\n",
       "       'Jersey', 'Jordan', 'Kazakhstan', 'Kenya', 'Kiribati', 'Kosovo',\n",
       "       'Kuwait', 'Kyrgyzstan', 'Laos', 'Latvia', 'Lebanon', 'Lesotho',\n",
       "       'Liberia', 'Libya', 'Liechtenstein', 'Lithuania', 'Luxembourg',\n",
       "       'Macao', 'Madagascar', 'Malawi', 'Malaysia', 'Maldives', 'Mali',\n",
       "       'Malta', 'Marshall Islands', 'Martinique', 'Mauritania',\n",
       "       'Mauritius', 'Mayotte', 'Mexico', 'Micronesia (country)',\n",
       "       'Moldova', 'Monaco', 'Mongolia', 'Montenegro', 'Montserrat',\n",
       "       'Morocco', 'Mozambique', 'Myanmar', 'Namibia', 'Nauru', 'Nepal',\n",
       "       'Netherlands', 'New Caledonia', 'New Zealand', 'Nicaragua',\n",
       "       'Niger', 'Nigeria', 'Niue', 'North Korea', 'North Macedonia',\n",
       "       'Northern Mariana Islands', 'Norway', 'Oman', 'Pakistan', 'Palau',\n",
       "       'Palestine', 'Panama', 'Papua New Guinea', 'Paraguay', 'Peru',\n",
       "       'Philippines', 'Poland', 'Portugal', 'Puerto Rico', 'Qatar',\n",
       "       'Reunion', 'Romania', 'Russia', 'Rwanda', 'Saint Helena',\n",
       "       'Saint Kitts and Nevis', 'Saint Lucia',\n",
       "       'Saint Martin (French part)', 'Saint Pierre and Miquelon',\n",
       "       'Saint Vincent and the Grenadines', 'Samoa', 'San Marino',\n",
       "       'Sao Tome and Principe', 'Saudi Arabia', 'Senegal', 'Serbia',\n",
       "       'Seychelles', 'Sierra Leone', 'Singapore',\n",
       "       'Sint Maarten (Dutch part)', 'Slovakia', 'Slovenia',\n",
       "       'Solomon Islands', 'Somalia', 'South Africa', 'South Korea',\n",
       "       'South Sudan', 'Spain', 'Sri Lanka', 'Sudan', 'Suriname', 'Sweden',\n",
       "       'Switzerland', 'Syria', 'Taiwan', 'Tajikistan', 'Tanzania',\n",
       "       'Thailand', 'Timor', 'Togo', 'Tokelau', 'Tonga',\n",
       "       'Trinidad and Tobago', 'Tunisia', 'Turkey', 'Turkmenistan',\n",
       "       'Turks and Caicos Islands', 'Tuvalu', 'Uganda', 'Ukraine',\n",
       "       'United Arab Emirates', 'United Kingdom', 'United States',\n",
       "       'United States Virgin Islands', 'Uruguay', 'Uzbekistan', 'Vanuatu',\n",
       "       'Venezuela', 'Vietnam', 'Wallis and Futuna', 'Western Sahara',\n",
       "       'Yemen', 'Zambia', 'Zimbabwe'], dtype=object)"
      ]
     },
     "execution_count": 133,
     "metadata": {},
     "output_type": "execute_result"
    }
   ],
   "source": [
    "df['Country'].unique()"
   ]
  },
  {
   "cell_type": "code",
   "execution_count": 134,
   "id": "ce58a4f4-aee3-4100-8b18-1f76de4134f2",
   "metadata": {},
   "outputs": [
    {
     "data": {
      "text/plain": [
       "array([  40099460,    2854710,   44177964,      45056,      79057,\n",
       "         34503776,      15779,      93229,   45276788,    2790971,\n",
       "           106543,   25921094,    8922086,   10312992,     407920,\n",
       "          1463266,  169356240,     281204,    9578172,   11611416,\n",
       "           400037,   12996901,      64213,     777500,   12079474,\n",
       "            26730,    3270948,    2588424,  214326220,      31145,\n",
       "           445382,    6885864,   22100690,   12551215,   16589031,\n",
       "         27198632,   38155012,     587936,      68157,    5457165,\n",
       "         17179744,   19493184, 1425893500,   51516560,     821632,\n",
       "          5835814,      17028,    5153959,   27478250,    4060139,\n",
       "         11256373,     190348,    1244193,   10510748,   95894120,\n",
       "          5854246,    1105562,      72435,   11117873,   17797736,\n",
       "        109262184,    6314165,    1634473,    3620324,    1328704,\n",
       "          1192273,  120283020,      52915,       3786,     924615,\n",
       "          5535982,   64531450,     297462,     304038,    2341185,\n",
       "          2639922,    3757984,   83408560,   32833036,      32698,\n",
       "         10445368,      56266,     124624,     396057,     170546,\n",
       "         17608484,      63092,   13531909,    2060730,     804571,\n",
       "         11447575,   10278346,    7494580,    9709784,     370338,\n",
       "       1407563900,  273753180,   87923430,   43533590,    4986525,\n",
       "            84286,    8900057,   59240336,    2827701,  124612530,\n",
       "           109634,   11148288,   19196468,   53005616,     128883,\n",
       "          1662022,    4250111,    6527742,    7425055,    1873926,\n",
       "          5592626,    2281464,    5193422,    6735280,      39058,\n",
       "          2786652,     639330,     686616,   28915652,   19889742,\n",
       "         33573870,     521469,   21904990,     526751,      42074,\n",
       "           368799,    4614981,    1298922,     316022,  126705140,\n",
       "           113143,    3061509,      36713,    3347782,     627856,\n",
       "             4438,   37076588,   32077074,   53798090,    2530150,\n",
       "            12533,   30034988,   17501696,     287809,    5129730,\n",
       "          6850546,   25252722,  213401330,       1957,   25971910,\n",
       "          2103329,      49503,    5403021,    4520474,  231402110,\n",
       "            18050,    5133393,    4351264,    9949438,    6703802,\n",
       "         33715464,  113880340,   38307724,   10290109,    3256030,\n",
       "          2688239,     966132,   19328558,  145102750,   13461891,\n",
       "             5428,      47631,     179663,      31964,       5905,\n",
       "           104340,     218781,      33772,     223118,   35950396,\n",
       "         16876726,    7296771,     106486,    8420642,    5941063,\n",
       "            44061,    5447621,    2119408,     707855,   17065588,\n",
       "         59392256,   51830136,   10748278,   47486932,   21773438,\n",
       "         45657204,     612989,   10467095,    8691409,   21324366,\n",
       "         23859904,    9750078,   63588332,   71601100,    1320944,\n",
       "          8644829,       1869,     106034,    1525671,   12262949,\n",
       "         84775410,    6341850,      45141,      11229,   45853780,\n",
       "         43531424,    9365149,   67281040,  336997630,     100100,\n",
       "          3426265,   34081452,     319146,   28199862,   97468024,\n",
       "            11654,     565590,   32981644,   19473132,   15993525],\n",
       "      dtype=int64)"
      ]
     },
     "execution_count": 134,
     "metadata": {},
     "output_type": "execute_result"
    }
   ],
   "source": [
    "data['Total'].unique()"
   ]
  },
  {
   "cell_type": "code",
   "execution_count": 135,
   "id": "34d3b6a1-ead4-4793-9e31-dbf16c78a39c",
   "metadata": {},
   "outputs": [],
   "source": [
    "# Calculate the total population by summing all age groups\n",
    "df['Total Population'] = df.iloc[:, 1:].sum(axis=1)"
   ]
  },
  {
   "cell_type": "code",
   "execution_count": 136,
   "id": "9bd9de73-1aeb-4c6b-8366-51c9972b2150",
   "metadata": {},
   "outputs": [],
   "source": [
    "top_countries_df = df.sort_values(by='Total Population', ascending=False).head(20)"
   ]
  },
  {
   "cell_type": "code",
   "execution_count": 137,
   "id": "f7ece355-5847-4ea1-a379-d19dbe1686e7",
   "metadata": {},
   "outputs": [
    {
     "data": {
      "image/png": "[encoded data removed]",
      "text/plain": [
       "<Figure size 1000x800 with 1 Axes>"
      ]
     },
     "metadata": {},
     "output_type": "display_data"
    }
   ],
   "source": [
    "plt.figure(figsize=(10, 8))  # Adjust figure size to accommodate the countries\n",
    "bars = plt.barh(top_countries_df['Country'], top_countries_df['Total Population'], color='skyblue')\n",
    "plt.xlabel('Total Population', fontsize=12)\n",
    "plt.ylabel('Country', fontsize=12)\n",
    "plt.title('Top 20 Countries by Total Population', fontsize=14)\n",
    "plt.xticks(fontsize=12)\n",
    "plt.yticks(fontsize=10)\n",
    "plt.tight_layout()\n",
    "\n",
    "# Add data labels to the bars\n",
    "for bar in bars:\n",
    "    width = bar.get_width()\n",
    "    plt.text(width, bar.get_y() + bar.get_height()/2, int(width), ha='left', va='center', fontsize=10)\n",
    "\n",
    "plt.show()"
   ]
  },
  {
   "cell_type": "code",
   "execution_count": 138,
   "id": "c0009e52-52d1-459a-89a9-0eb94d2ad9fe",
   "metadata": {},
   "outputs": [],
   "source": [
    "age_group_totals = df[['65+', '25-64 years', '15-24 years', '5-14 years', '0-4 years']].sum()"
   ]
  },
  {
   "cell_type": "code",
   "execution_count": 139,
   "id": "f31720ce-175a-402b-8244-53d2cdb1fe7d",
   "metadata": {},
   "outputs": [
    {
     "data": {
      "image/png": "[encoded data removed]",
      "text/plain": [
       "<Figure size 800x500 with 1 Axes>"
      ]
     },
     "metadata": {},
     "output_type": "display_data"
    }
   ],
   "source": [
    "plt.figure(figsize=(8, 5))\n",
    "age_group_totals.plot(kind='bar')\n",
    "plt.xlabel('Age Group')\n",
    "plt.ylabel('Total Population')\n",
    "plt.title('Total Population by Age Group')\n",
    "plt.xticks(rotation=45)\n",
    "plt.tight_layout()\n",
    "plt.show()"
   ]
  },
  {
   "cell_type": "code",
   "execution_count": null,
   "id": "72648e57-1b41-402b-a9a2-689e5175bf2f",
   "metadata": {},
   "outputs": [],
   "source": []
  },
  {
   "cell_type": "code",
   "execution_count": 140,
   "id": "00e590bd-787f-423f-a504-65e2599a7ea3",
   "metadata": {},
   "outputs": [
    {
     "data": {
      "image/png": "[encoded data removed]",
      "text/plain": [
       "<Figure size 800x500 with 1 Axes>"
      ]
     },
     "metadata": {},
     "output_type": "display_data"
    }
   ],
   "source": [
    "age_65plus = df['65+']\n",
    "\n",
    "# Plotting the histogram\n",
    "plt.figure(figsize=(8, 5))\n",
    "plt.hist(age_65plus, bins=10, edgecolor='black')\n",
    "plt.xlabel('Population 65+')\n",
    "plt.ylabel('Frequency')\n",
    "plt.title('Distribution of Population 65+')\n",
    "plt.tight_layout()\n",
    "plt.show()"
   ]
  },
  {
   "cell_type": "code",
   "execution_count": null,
   "id": "3c38a3fe-6a5c-4b5e-b7e4-9a57d142ef96",
   "metadata": {},
   "outputs": [],
   "source": []
  }
 ],
 "metadata": {
  "kernelspec": {
   "display_name": "Python 3 (ipykernel)",
   "language": "python",
   "name": "python3"
  },
  "language_info": {
   "codemirror_mode": {
    "name": "ipython",
    "version": 3
   },
   "file_extension": ".py",
   "mimetype": "text/x-python",
   "name": "python",
   "nbconvert_exporter": "python",
   "pygments_lexer": "ipython3",
   "version": "3.12.4"
  }
 },
 "nbformat": 4,
 "nbformat_minor": 5
}
